{
 "cells": [
  {
   "cell_type": "markdown",
   "metadata": {},
   "source": [
    "# **Translator: simple Translator with auto-language-detection**"
   ]
  },
  {
   "cell_type": "markdown",
   "metadata": {},
   "source": [
    "### All required imports"
   ]
  },
  {
   "cell_type": "code",
   "execution_count": null,
   "metadata": {},
   "outputs": [],
   "source": [
    "from transformers import pipeline\n",
    "import gradio as gr"
   ]
  },
  {
   "cell_type": "markdown",
   "metadata": {},
   "source": [
    "### Main input processing function"
   ]
  },
  {
   "cell_type": "code",
   "execution_count": null,
   "metadata": {},
   "outputs": [],
   "source": [
    "\n",
    "\n",
    "# This is a simple translator that uses the Helsinki-NLP/opus-mt model to translate between 5 languages\n",
    "def translate_text(text, target_language):\n",
    "    # This is a dictionary that maps the target language to the language code used by the model\n",
    "    language_mapping = {\"English\": \"en\", \"German\": \"de\", \n",
    "                        \"French\": \"fr\", \"Spanish\": \"es\", \"Italian\": \"it\"}\n",
    "    # This is a language detector that uses the xlm-roberta-base-language-detection model\n",
    "    lang_detector = pipeline(\"text-classification\", model=\"papluca/xlm-roberta-base-language-detection\")\n",
    "    # This is the language code of the target language\n",
    "    detected_lang = lang_detector(text)\n",
    "    detected = detected_lang[0][\"label\"]\n",
    "    # This is the language code of the detected language\n",
    "    target = language_mapping[target_language]\n",
    "\n",
    "    \n",
    "    \n",
    "    # If the detected language is the same as the target language, return the text\n",
    "    if target == detected:\n",
    "      return text\n",
    "    # If the detected language is not the same as the target language, translate the text\n",
    "    else:\n",
    "      translator = pipeline(\"translation\", model=\"Helsinki-NLP/opus-mt-{}-{}\".format(detected, target))\n",
    "      \n",
    "      result = translator(text)[0][\"translation_text\"]\n",
    "      return result\n",
    "\n",
    "\n",
    "\n",
    "\n",
    "\n",
    "\n"
   ]
  },
  {
   "cell_type": "markdown",
   "metadata": {},
   "source": [
    "### instanciate the checkbox"
   ]
  },
  {
   "cell_type": "code",
   "execution_count": null,
   "metadata": {},
   "outputs": [],
   "source": [
    "# This is the checkbox for the target language\n",
    "checkbox = gr.Radio(['German','Italian','Spanish',\n",
    "                             'French','English'], label=\"Choose your target Language\",\n",
    "                             info=\"Please select a target language, the input Language will be determined automatically\")"
   ]
  },
  {
   "cell_type": "markdown",
   "metadata": {},
   "source": [
    "### instanciate and run the ui"
   ]
  },
  {
   "cell_type": "code",
   "execution_count": null,
   "metadata": {},
   "outputs": [],
   "source": [
    "# This is the interface for the translator\n",
    "demo = gr.Interface(\n",
    "    fn=translate_text,\n",
    "    inputs=[\"text\", checkbox],\n",
    "    outputs=[\"text\"],\n",
    "    title=\"Translator\"\n",
    ")\n",
    "\n",
    "demo.launch()"
   ]
  },
  {
   "cell_type": "markdown",
   "metadata": {},
   "source": [
    "## **The entire code in one piece**"
   ]
  },
  {
   "cell_type": "code",
   "execution_count": null,
   "metadata": {},
   "outputs": [],
   "source": [
    "from transformers import pipeline\n",
    "import gradio as gr\n",
    "\n",
    "# This is a simple translator that uses the Helsinki-NLP/opus-mt model to translate between 5 languages\n",
    "def translate_text(text, target_language):\n",
    "    # This is a dictionary that maps the target language to the language code used by the model\n",
    "    language_mapping = {\"English\": \"en\", \"German\": \"de\", \n",
    "                        \"French\": \"fr\", \"Spanish\": \"es\", \"Italian\": \"it\"}\n",
    "    \n",
    "    lang_detector = pipeline(\"text-classification\", model=\"papluca/xlm-roberta-base-language-detection\")\n",
    "\n",
    "    detected_lang = lang_detector(text)\n",
    "    detected = detected_lang[0][\"label\"]\n",
    "\n",
    "    target = language_mapping[target_language]\n",
    "\n",
    "    \n",
    "    \n",
    "    # If the detected language is the same as the target language, return the text\n",
    "    if target == detected:\n",
    "      return text\n",
    "    # If the detected language is not the same as the target language, translate the text\n",
    "    else:\n",
    "      translator = pipeline(\"translation\", model=\"Helsinki-NLP/opus-mt-{}-{}\".format(detected, target))\n",
    "      \n",
    "      result = translator(text)[0][\"translation_text\"]\n",
    "      return result\n",
    "\n",
    "# This is the checkbox for the target language\n",
    "checkbox = gr.Radio(['German','Italian','Spanish',\n",
    "                             'French','English'], label=\"Choose your target Language\",\n",
    "                             info=\"Please select a target language, the input Language will be determined automatically\")\n",
    "# This is the interface for the translator\n",
    "demo = gr.Interface(\n",
    "    fn=translate_text,\n",
    "    inputs=[\"text\", checkbox],\n",
    "    outputs=[\"text\"],\n",
    "    title=\"Translator\"\n",
    ")\n",
    "\n",
    "demo.launch()\n",
    "\n",
    "\n",
    "\n"
   ]
  }
 ],
 "metadata": {
  "kernelspec": {
   "display_name": "bigD",
   "language": "python",
   "name": "python3"
  },
  "language_info": {
   "name": "python",
   "version": "3.9.13"
  }
 },
 "nbformat": 4,
 "nbformat_minor": 2
}
