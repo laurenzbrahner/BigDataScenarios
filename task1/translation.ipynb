{
 "cells": [
  {
   "cell_type": "code",
   "execution_count": null,
   "metadata": {},
   "outputs": [],
   "source": [
    "from transformers import pipeline\n",
    "import gradio as gr\n",
    "\n",
    "\n",
    "def translate_text(text, target_language):\n",
    "    language_mapping = {\"English\": \"en\", \"German\": \"de\", \n",
    "                        \"French\": \"fr\", \"Spanish\": \"es\", \"Italian\": \"it\"}\n",
    "    \n",
    "    lang_detector = pipeline(\"text-classification\", model=\"papluca/xlm-roberta-base-language-detection\")\n",
    "\n",
    "    detected_lang = lang_detector(text)\n",
    "    detected = detected_lang[0][\"label\"]\n",
    "\n",
    "    target = language_mapping[target_language]\n",
    "\n",
    "    \n",
    "    \n",
    "\n",
    "    if target == detected:\n",
    "      return text\n",
    "    else:\n",
    "      translator = pipeline(\"translation\", model=\"Helsinki-NLP/opus-mt-{}-{}\".format(detected, target))\n",
    "      \n",
    "      result = translator(text)[0][\"translation_text\"]\n",
    "      return result\n",
    "\n",
    "\n",
    "checkbox = gr.Radio(['German','Italian','Spanish',\n",
    "                             'French','English'], label=\"Choose your target Language\",\n",
    "                             info=\"Please select a target language, the input Language will be determined automatically\")\n",
    "\n",
    "demo = gr.Interface(\n",
    "    fn=translate_text,\n",
    "    inputs=[\"text\", checkbox],\n",
    "    outputs=[\"text\"],\n",
    "    title=\"Translator\"\n",
    ")\n",
    "\n",
    "demo.launch()\n",
    "\n",
    "\n",
    "\n"
   ]
  }
 ],
 "metadata": {
  "language_info": {
   "name": "python"
  }
 },
 "nbformat": 4,
 "nbformat_minor": 2
}
