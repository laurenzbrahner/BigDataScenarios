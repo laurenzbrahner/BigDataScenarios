{
 "cells": [
  {
   "cell_type": "code",
   "execution_count": null,
   "metadata": {},
   "outputs": [],
   "source": [
    "import gradio as gr\n",
    "from transformers import pipeline\n",
    "import pandas as pd\n",
    "\n",
    "#Read comment in next column!!!\n",
    "csv_url = \"https://raw.githubusercontent.com/laurenzbrahner/BigDataScenarios/main/data/Summarization_Training.csv\" #Input your CSV-directory here\n",
    "df= pd.read_csv(csv_url, error_bad_lines=False, sep=\";\")\n",
    "\n",
    "random_rows = df.sample(n=15, random_state=42)\n",
    "\n",
    "highlights = random_rows['highlights'].to_list()\n",
    "\n",
    "\n",
    "\n",
    "\n",
    "sum = pipeline(\"summarization\", model=\"facebook/bart-large-cnn\", truncation=True)\n",
    "\n",
    "def news_summarizer(article, target_len):\n",
    "    size_mapper= {'Short' :50, \"Medium\" :100, \"Long\" :200}\n",
    "    target = target_len\n",
    "    index = df[df['highlights']== article].index[0]\n",
    "    article_at_i = df[\"article\"][index]\n",
    "    result = sum(article_at_i, max_length=size_mapper[target_len])\n",
    "    return result[0]['summary_text']\n",
    "\n",
    "\n",
    "radio = gr.Radio(['Short', 'Medium', 'Long'], label='Choose your desired summarization length')\n",
    "dropdown = gr.Dropdown(highlights, label='Choose an article you would like to have summarized')\n",
    "\n",
    "demo = gr.Interface(\n",
    "    fn=news_summarizer,\n",
    "    inputs=[ dropdown, radio],\n",
    "    outputs=\"text\",\n",
    "    title=\"News article summarizer\"\n",
    "    )\n",
    "\n",
    "\n",
    "demo.launch()"
   ]
  }
 ],
 "metadata": {
  "language_info": {
   "name": "python"
  }
 },
 "nbformat": 4,
 "nbformat_minor": 2
}
