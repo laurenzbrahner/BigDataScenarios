{
 "cells": [
  {
   "cell_type": "markdown",
   "metadata": {},
   "source": [
    "# **Summarization: Summarizing news articles with the help of transformers summarization**"
   ]
  },
  {
   "cell_type": "markdown",
   "metadata": {},
   "source": [
    "### Import all necessary libraries"
   ]
  },
  {
   "cell_type": "code",
   "execution_count": null,
   "metadata": {},
   "outputs": [],
   "source": [
    "import gradio as gr\n",
    "from transformers import pipeline\n",
    "import pandas as pd"
   ]
  },
  {
   "cell_type": "markdown",
   "metadata": {},
   "source": [
    "### Reading the CSV file with the news articles needed for this demonstration"
   ]
  },
  {
   "cell_type": "code",
   "execution_count": null,
   "metadata": {},
   "outputs": [],
   "source": [
    "#Read comment in next column!!!\n",
    "csv_url = \"https://raw.githubusercontent.com/laurenzbrahner/BigDataScenarios/main/data/Summarization_Training.csv\" #Input your CSV-directory here\n",
    "df= pd.read_csv(csv_url, error_bad_lines=False, sep=\";\")"
   ]
  },
  {
   "cell_type": "markdown",
   "metadata": {},
   "source": [
    "### Randomly selecting 15 articles and adding them to a list for later selection"
   ]
  },
  {
   "cell_type": "code",
   "execution_count": null,
   "metadata": {},
   "outputs": [],
   "source": [
    "#Randomly select 15 articles from the CSV-file\n",
    "random_rows = df.sample(n=15, random_state=42)\n",
    "\n",
    "#Create a list of the 15 articles\n",
    "highlights = random_rows['highlights'].to_list()"
   ]
  },
  {
   "cell_type": "markdown",
   "metadata": {},
   "source": [
    "### Initializing the summarization pipeline"
   ]
  },
  {
   "cell_type": "code",
   "execution_count": null,
   "metadata": {},
   "outputs": [],
   "source": [
    "#Initialize the summarization pipeline\n",
    "sum = pipeline(\"summarization\", model=\"facebook/bart-large-cnn\", truncation=True)"
   ]
  },
  {
   "cell_type": "markdown",
   "metadata": {},
   "source": [
    "### Defining the news_summarizer function which is the core component of this code"
   ]
  },
  {
   "cell_type": "code",
   "execution_count": null,
   "metadata": {},
   "outputs": [],
   "source": [
    "#Define the summarization function\n",
    "def news_summarizer(article, target_len):\n",
    "    #Dictionary with the possible summarization lengths\n",
    "    size_mapper= {'Short' :50, \"Medium\" :100, \"Long\" :200}\n",
    "    target = target_len\n",
    "    #Find the index of the article in the dataframe\n",
    "    index = df[df['highlights']== article].index[0]\n",
    "    #Summarize the article at the given index with the desired length\n",
    "    article_at_i = df[\"article\"][index]\n",
    "    result = sum(article_at_i, max_length=size_mapper[target_len])\n",
    "    #Return the summary\n",
    "    return result[0]['summary_text']"
   ]
  },
  {
   "cell_type": "markdown",
   "metadata": {},
   "source": [
    "### Finally defining the Gradio UI to use our code, and launching it"
   ]
  },
  {
   "cell_type": "code",
   "execution_count": null,
   "metadata": {},
   "outputs": [],
   "source": [
    "#Create the interface\n",
    "radio = gr.Radio(['Short', 'Medium', 'Long'], label='Choose your desired summarization length')\n",
    "dropdown = gr.Dropdown(highlights, label='Choose an article you would like to have summarized')\n",
    "\n",
    "\n",
    "demo = gr.Interface(\n",
    "    fn=news_summarizer,\n",
    "    inputs=[ dropdown, radio],\n",
    "    outputs=\"text\",\n",
    "    title=\"News article summarizer\"\n",
    "    )\n",
    "\n",
    "#Launch the interface\n",
    "demo.launch()"
   ]
  },
  {
   "cell_type": "markdown",
   "metadata": {},
   "source": [
    "## **The entire code in one piece:**"
   ]
  },
  {
   "cell_type": "code",
   "execution_count": null,
   "metadata": {},
   "outputs": [],
   "source": [
    "import gradio as gr\n",
    "from transformers import pipeline\n",
    "import pandas as pd\n",
    "\n",
    "#Read comment in next column!!!\n",
    "csv_url = \"https://raw.githubusercontent.com/laurenzbrahner/BigDataScenarios/main/data/Summarization_Training.csv\" #Input your CSV-directory here\n",
    "df= pd.read_csv(csv_url, error_bad_lines=False, sep=\";\")\n",
    "\n",
    "#Randomly select 15 articles from the CSV-file\n",
    "random_rows = df.sample(n=15, random_state=42)\n",
    "\n",
    "#Create a list of the 15 articles\n",
    "highlights = random_rows['highlights'].to_list()\n",
    "\n",
    "\n",
    "\n",
    "#Initialize the summarization pipeline\n",
    "sum = pipeline(\"summarization\", model=\"facebook/bart-large-cnn\", truncation=True)\n",
    "\n",
    "#Define the summarization function\n",
    "def news_summarizer(article, target_len):\n",
    "    #Dictionary with the possible summarization lengths\n",
    "    size_mapper= {'Short' :50, \"Medium\" :100, \"Long\" :200}\n",
    "    target = target_len\n",
    "    #Find the index of the article in the dataframe\n",
    "    index = df[df['highlights']== article].index[0]\n",
    "    #Summarize the article at the given index with the desired length\n",
    "    article_at_i = df[\"article\"][index]\n",
    "    result = sum(article_at_i, max_length=size_mapper[target_len])\n",
    "    #Return the summary\n",
    "    return result[0]['summary_text']\n",
    "\n",
    "#Create the interface\n",
    "radio = gr.Radio(['Short', 'Medium', 'Long'], label='Choose your desired summarization length')\n",
    "dropdown = gr.Dropdown(highlights, label='Choose an article you would like to have summarized')\n",
    "\n",
    "\n",
    "demo = gr.Interface(\n",
    "    fn=news_summarizer,\n",
    "    inputs=[ dropdown, radio],\n",
    "    outputs=\"text\",\n",
    "    title=\"News article summarizer\"\n",
    "    )\n",
    "\n",
    "#Launch the interface\n",
    "demo.launch()"
   ]
  }
 ],
 "metadata": {
  "language_info": {
   "name": "python"
  }
 },
 "nbformat": 4,
 "nbformat_minor": 2
}
