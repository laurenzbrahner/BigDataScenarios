import gradio as gr
from transformers import pipeline
import pandas as pd

#Read comment in next column!!!
csv_url = "https://raw.githubusercontent.com/laurenzbrahner/BigDataScenarios/main/data/Summarization_Training.csv" #Input your CSV-directory here
df= pd.read_csv(csv_url, error_bad_lines=False, sep=";")

random_rows = df.sample(n=15, random_state=42)

highlights = random_rows['highlights'].to_list()




sum = pipeline("summarization", model="facebook/bart-large-cnn", truncation=True)

def news_summarizer(article, target_len):
    size_mapper= {'Short' :50, "Medium" :100, "Long" :200}
    target = target_len
    index = df[df['highlights']== article].index[0]
    article_at_i = df["article"][index]
    result = sum(article_at_i, max_length=size_mapper[target_len])
    return result[0]['summary_text']


radio = gr.Radio(['Short', 'Medium', 'Long'], label='Choose your desired summarization length')
dropdown = gr.Dropdown(highlights, label='Choose an article you would like to have summarized')

demo = gr.Interface(
    fn=news_summarizer,
    inputs=[ dropdown, radio],
    outputs="text",
    title="News article summarizer"
    )


demo.launch()
