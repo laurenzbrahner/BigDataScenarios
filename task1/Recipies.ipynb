{
 "cells": [
  {
   "cell_type": "markdown",
   "metadata": {},
   "source": [
    "# **Zero shot classification: Demonstrated with the case study \"Recipes\"**"
   ]
  },
  {
   "cell_type": "markdown",
   "metadata": {},
   "source": [
    "### All required libraries are imported first"
   ]
  },
  {
   "cell_type": "code",
   "execution_count": null,
   "metadata": {},
   "outputs": [],
   "source": [
    "import gradio as gr\n",
    "from transformers import pipeline\n",
    "import pandas as pd\n",
    "import altair as alt"
   ]
  },
  {
   "cell_type": "markdown",
   "metadata": {},
   "source": [
    "### The \"zero-shot-classification\" pipeline of transformers is then defined with a variable"
   ]
  },
  {
   "cell_type": "code",
   "execution_count": null,
   "metadata": {},
   "outputs": [],
   "source": [
    "zer = pipeline(\"zero-shot-classification\")"
   ]
  },
  {
   "cell_type": "markdown",
   "metadata": {},
   "source": [
    "### Now we define the function that will later process our inputs and deliver the desired result"
   ]
  },
  {
   "cell_type": "code",
   "execution_count": null,
   "metadata": {},
   "outputs": [],
   "source": [
    "def analyze_text(text, labels):\n",
    "    # If no labels have been selected in the UI, all labels are selected automatically, otherwise the received labels are used\n",
    "    if not labels:  \n",
    "        labels = ['Chinese', 'Indian', 'Italian', \n",
    "                  'Mexican', 'Southern Usa', \n",
    "                  'Cajun Creole', 'French', 'Thai']\n",
    "        \n",
    "    # The text input from the UI and the labels are loaded into the zero-shot classification model and the result is then converted into a Pandas DF\n",
    "    data = zer(text, labels)\n",
    "    data = pd.DataFrame(data)\n",
    "    # The score is rounded to two decimal places for the sake of legibility\n",
    "    data['scores'] = data['scores'].round(2)\n",
    "    # DF headings are reformatted\n",
    "    data = data.rename(columns={\"sequence\": \"Recipe\", \"scores\": \"Score\", \n",
    "                                \"labels\": \"Cuisine\"})\n",
    "    # Recipe is removed from the output for the sake of clarity\n",
    "    data_2 = data.drop(columns=[\"Recipe\"], axis=1)\n",
    "\n",
    "    # Color palette is created for bar chart\n",
    "    color_scale = alt.Scale(range=['#1f77b4', '#ff7f0e', '#2ca02c', '#d62728', '#9467bd', '#8c564b', '#e377c2', '#7f7f7f'])\n",
    "\n",
    "    # Barplot is created\n",
    "    plot = alt.Chart(data_2).mark_bar(\n",
    "        opacity=0.8,\n",
    "        size= 30\n",
    "    ).encode(\n",
    "        x=alt.X('Cuisine', title='Cuisine', sort=alt.EncodingSortField(field='Score',order='descending'), axis=alt.Axis(labelAngle=0, titleAnchor='start')),\n",
    "        y=alt.Y('Score', title='Score', axis=alt.Axis(titleAnchor='start')),\n",
    "        color=alt.Color('Cuisine', scale=color_scale),\n",
    "        tooltip=[alt.Tooltip('Score',title='Matchscore of the Cuisine')]\n",
    "    ).properties(\n",
    "    width=600,\n",
    "    height=400,\n",
    "    title='Matchscore of the Cuisines'\n",
    "    ).configure_axis(\n",
    "    grid=False\n",
    "    ).configure_view(\n",
    "    strokeWidth=0\n",
    "    )\n",
    "\n",
    "    plot.save('Barplot.html') \n",
    "\n",
    "    # The output is returned to the UI\n",
    "    \n",
    "    return data_2, plot, 'Barplot.html'"
   ]
  },
  {
   "cell_type": "markdown",
   "metadata": {},
   "source": [
    "## **Definition of the Gradio UI**"
   ]
  },
  {
   "cell_type": "markdown",
   "metadata": {},
   "source": [
    "### The checkboxes that can be used to define the labels for the ZSC (if no option is selected, all are selected automatically)."
   ]
  },
  {
   "cell_type": "code",
   "execution_count": null,
   "metadata": {},
   "outputs": [],
   "source": [
    "checkbox = gr.CheckboxGroup(['Chinese','Indian','Italian',\n",
    "                             'Mexican','Southern Usa', 'Cajun Creole', \n",
    "                             'French', 'Thai'], label=\"Choose countries\", info=\"If nothing is selected, all options will be selected automatically.\")"
   ]
  },
  {
   "cell_type": "markdown",
   "metadata": {},
   "source": [
    "### The Gradio interface is now defined together with the function, inputs, outputs and title and finally executed."
   ]
  },
  {
   "cell_type": "code",
   "execution_count": null,
   "metadata": {},
   "outputs": [],
   "source": [
    "demo = gr.Interface(\n",
    "    fn=analyze_text,\n",
    "    inputs=[\"text\", checkbox],\n",
    "    outputs=[\"dataframe\",\"plot\",\"file\"],\n",
    "    title=\" Zero-Shot Recipe Classification\"\n",
    ")\n",
    "\n",
    "demo.launch()"
   ]
  },
  {
   "cell_type": "markdown",
   "metadata": {},
   "source": [
    "## **____________________________________________________________________________**"
   ]
  },
  {
   "cell_type": "markdown",
   "metadata": {},
   "source": [
    "## **The entire code in one piece:**"
   ]
  },
  {
   "cell_type": "code",
   "execution_count": null,
   "metadata": {},
   "outputs": [],
   "source": [
    "import gradio as gr\n",
    "from transformers import pipeline\n",
    "import pandas as pd\n",
    "import altair as alt\n",
    "\n",
    "zer = pipeline(\"zero-shot-classification\")\n",
    "\n",
    "def analyze_text(text, labels):\n",
    "\n",
    "    if not labels:  \n",
    "        labels = ['Chinese', 'Indian', 'Italian', \n",
    "                  'Mexican', 'Southern Usa', \n",
    "                  'Cajun Creole', 'French', 'Thai']\n",
    "    data = zer(text, labels)\n",
    "    data = pd.DataFrame(data)\n",
    "    data['scores'] = data['scores'].round(2)\n",
    "    data = data.rename(columns={\"sequence\": \"Recipe\", \"scores\": \"Score\", \n",
    "                                \"labels\": \"Cuisine\"})\n",
    "    data_2 = data.drop(columns=[\"Recipe\"], axis=1)\n",
    "\n",
    "    color_scale = alt.Scale(range=['#1f77b4', '#ff7f0e', '#2ca02c', '#d62728', '#9467bd', '#8c564b', '#e377c2', '#7f7f7f'])\n",
    "\n",
    "    plot = alt.Chart(data_2).mark_bar(\n",
    "        opacity=0.8,\n",
    "        size= 30\n",
    "    ).encode(\n",
    "        x=alt.X('Cuisine', title='Cuisine', sort=alt.EncodingSortField(field='Score',order='descending'), axis=alt.Axis(labelAngle=0, titleAnchor='start')),\n",
    "        y=alt.Y('Score', title='Score', axis=alt.Axis(titleAnchor='start')),\n",
    "        color=alt.Color('Cuisine', scale=color_scale),\n",
    "        tooltip=[alt.Tooltip('Score',title='Matchscore of the Cuisine')]\n",
    "    ).properties(\n",
    "    width=600,\n",
    "    height=400,\n",
    "    title='Matchscore of the Cuisines'\n",
    "    ).configure_axis(\n",
    "    grid=False\n",
    "    ).configure_view(\n",
    "    strokeWidth=0\n",
    "    )\n",
    "\n",
    "    plot.save('Barplot.html') \n",
    "\n",
    "\n",
    "\n",
    "    return data_2, plot, 'Barplot.html'\n",
    "\n",
    "checkbox = gr.CheckboxGroup(['Chinese','Indian','Italian',\n",
    "                             'Mexican','Southern Usa', 'Cajun Creole', \n",
    "                             'French', 'Thai'], label=\"Choose countries\", info=\"If nothing is selected, all options will be selected automatically.\")\n",
    "\n",
    "demo = gr.Interface(\n",
    "    fn=analyze_text,\n",
    "    inputs=[\"text\", checkbox],\n",
    "    outputs=[\"dataframe\",\"plot\",\"file\"],\n",
    "    title=\" Zero-Shot Recipe Classification\"\n",
    ")\n",
    "\n",
    "demo.launch()"
   ]
  }
 ],
 "metadata": {
  "language_info": {
   "name": "python"
  }
 },
 "nbformat": 4,
 "nbformat_minor": 2
}
