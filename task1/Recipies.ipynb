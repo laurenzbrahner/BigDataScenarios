{
 "cells": [
  {
   "cell_type": "markdown",
   "metadata": {},
   "source": [
    "# **Zero shot classification: Demonstrated with the case study \"Recipes\"**"
   ]
  },
  {
   "cell_type": "markdown",
   "metadata": {},
   "source": [
    "### All required libraries are imported first"
   ]
  },
  {
   "cell_type": "code",
   "execution_count": null,
   "metadata": {},
   "outputs": [],
   "source": [
    "import gradio as gr\n",
    "from transformers import pipeline\n",
    "import pandas as pd\n",
    "import altair as alt\n",
    "import random"
   ]
  },
  {
   "cell_type": "markdown",
   "metadata": {},
   "source": [
    "### The \"zero-shot-classification\" pipeline of transformers is then defined with a variable"
   ]
  },
  {
   "cell_type": "code",
   "execution_count": null,
   "metadata": {},
   "outputs": [],
   "source": [
    "# Load the pipeline and the dataset\n",
    "zer = pipeline(\"zero-shot-classification\")\n",
    "URL = \"https://raw.githubusercontent.com/laurenzbrahner/BigDataScenarios/main/data/Recipes_Training.csv\"\n",
    "df = pd.read_csv(URL, sep=\";\")\n",
    "df_recipe_list = df[\"ingredients\"].to_list()"
   ]
  },
  {
   "cell_type": "markdown",
   "metadata": {},
   "source": [
    "### Now we define the function that will later process our inputs and deliver the desired result"
   ]
  },
  {
   "cell_type": "code",
   "execution_count": null,
   "metadata": {},
   "outputs": [],
   "source": [
    "# Function to get a random recipe\n",
    "def get_random_recipe():\n",
    "    recipe = random.choice(df_recipe_list)\n",
    "    return ', '.join(eval(recipe))\n",
    "\n",
    "# Main function for analysis\n",
    "def analyze_text(text=None, dropdown=[], random_recipe=False,  labels=None):\n",
    "    # If no text is given, get a random recipe  \n",
    "    if random_recipe:\n",
    "        text = get_random_recipe()\n",
    "    \n",
    "    # If no labels are given, use the default labels\n",
    "    if not labels:  \n",
    "        labels = ['Chinese', 'Indian', 'Italian', \n",
    "                  'Mexican', 'Southern Usa', \n",
    "                  'Cajun Creole', 'French', 'Thai']\n",
    "    # If no text is given, use the dropdown\n",
    "    if not text and dropdown:\n",
    "      data = zer(dropdown, labels)\n",
    "      data = pd.DataFrame(data)\n",
    "      data['scores'] = data['scores'].round(2)\n",
    "      data = data.rename(columns={\"sequence\": \"Recipe\", \"scores\": \"Score\", \n",
    "                                  \"labels\": \"Cuisine\"})\n",
    "      data_2 = data.drop(columns=[\"Recipe\"], axis=1)\n",
    "    \n",
    "    # If no dropdown is given, use the text\n",
    "    elif text and not dropdown:\n",
    "      data = zer(text, labels)\n",
    "      data = pd.DataFrame(data)\n",
    "      data['scores'] = data['scores'].round(2)\n",
    "      data = data.rename(columns={\"sequence\": \"Recipe\", \"scores\": \"Score\", \n",
    "                                  \"labels\": \"Cuisine\"})\n",
    "      data_2 = data.drop(columns=[\"Recipe\"], axis=1)\n",
    "    # If both are given, use the text\n",
    "    else:\n",
    "      data = zer(text, labels)\n",
    "      data = pd.DataFrame(data)\n",
    "      data['scores'] = data['scores'].round(2)\n",
    "      data = data.rename(columns={\"sequence\": \"Recipe\", \"scores\": \"Score\", \n",
    "                                  \"labels\": \"Cuisine\"})\n",
    "      data_2 = data.drop(columns=[\"Recipe\"], axis=1)\n",
    "\n",
    "\n",
    "    # Create the barplot\n",
    "    color_scale = alt.Scale(range=['#1f77b4', '#ff7f0e', '#2ca02c', '#d62728', '#9467bd', '#8c564b', '#e377c2', '#7f7f7f'])\n",
    "\n",
    "    plot = alt.Chart(data_2).mark_bar(\n",
    "        opacity=0.8,\n",
    "        size=30\n",
    "    ).encode(\n",
    "        x=alt.X('Cuisine', title='Cuisine', sort=alt.EncodingSortField(field='Score',order='descending'), axis=alt.Axis(labelAngle=0, titleAnchor='start')),\n",
    "        y=alt.Y('Score', title='Score', axis=alt.Axis(titleAnchor='start')),\n",
    "        color=alt.Color('Cuisine', scale=color_scale),\n",
    "        tooltip=[alt.Tooltip('Score',title='Matchscore of the Cuisine')]\n",
    "    ).properties(\n",
    "        width=600,\n",
    "        height=400,\n",
    "        title='Matchscore of the Cuisines'\n",
    "    ).configure_axis(\n",
    "        grid=False\n",
    "    ).configure_view(\n",
    "        strokeWidth=0\n",
    "    )\n",
    "\n",
    "    plot.save('Barplot.html') \n",
    "\n",
    "    # Return the text, the data, the plot and the html file\n",
    "    if text and not dropdown:\n",
    "      return text, data_2, plot, 'Barplot.html'\n",
    "    # If dropdown is given, use the dropdown\n",
    "    elif dropdown and not text:\n",
    "      return ', '.join(eval(dropdown)), data_2, plot, 'Barplot.html'\n",
    "    # If both are given, use the text\n",
    "    else:\n",
    "      return text, data_2, plot, 'Barplot.html'"
   ]
  },
  {
   "cell_type": "markdown",
   "metadata": {},
   "source": [
    "## **Definition of the Gradio UI**"
   ]
  },
  {
   "cell_type": "markdown",
   "metadata": {},
   "source": [
    "### The checkboxes that can be used to define the labels for the ZSC (if no option is selected, all are selected automatically)."
   ]
  },
  {
   "cell_type": "code",
   "execution_count": null,
   "metadata": {},
   "outputs": [],
   "source": [
    "# Checkbox for random recipe\n",
    "random_recipe_checkbox = gr.Checkbox(label=\"Use Random Recipe\")\n",
    "\n",
    "# Checkbox for selecting cuisines\n",
    "checkbox = gr.CheckboxGroup(['Chinese','Indian','Italian',\n",
    "                             'Mexican','Southern Usa', 'Cajun Creole', \n",
    "                             'French', 'Thai'], label=\"Choose countries\", info=\"If nothing is selected, all options will be selected automatically.\")\n",
    "\n",
    "dropdown = gr.Dropdown(df_recipe_list, label=\"Choose a recipe from the dataset\")"
   ]
  },
  {
   "cell_type": "markdown",
   "metadata": {},
   "source": [
    "### The Gradio interface is now defined together with the function, inputs, outputs and title and finally executed."
   ]
  },
  {
   "cell_type": "code",
   "execution_count": null,
   "metadata": {},
   "outputs": [],
   "source": [
    "# Gradio Interface\n",
    "demo = gr.Interface(\n",
    "    fn=analyze_text,\n",
    "    inputs=[ gr.Textbox(placeholder=\"Enter ingredients manually\", label=\"Ingredients\"), dropdown ,random_recipe_checkbox, checkbox],  # Reihenfolge der Argumente hier beibehalten\n",
    "    outputs=[gr.Textbox(label=\"Used Recipe\", placeholder=\"This is the recipe you used\"),gr.DataFrame(label=\"Table sorted score\"),\n",
    "             gr.Plot(label=\"Barplot\"),gr.File(label=\"Download plot here\")],\n",
    "    title=\"Zero-Shot Recipe Classification\",\n",
    "    allow_flagging=\"never\"\n",
    ")\n",
    "\n",
    "demo.launch()"
   ]
  },
  {
   "cell_type": "markdown",
   "metadata": {},
   "source": [
    "## **____________________________________________________________________________**"
   ]
  },
  {
   "cell_type": "markdown",
   "metadata": {},
   "source": [
    "## **The entire code in one piece:**"
   ]
  },
  {
   "cell_type": "code",
   "execution_count": null,
   "metadata": {},
   "outputs": [],
   "source": [
    "import gradio as gr\n",
    "from transformers import pipeline\n",
    "import pandas as pd\n",
    "import altair as alt\n",
    "import random\n",
    "\n",
    "# Load the pipeline and the dataset\n",
    "zer = pipeline(\"zero-shot-classification\")\n",
    "URL = \"https://raw.githubusercontent.com/laurenzbrahner/BigDataScenarios/main/data/Recipes_Training.csv\"\n",
    "df = pd.read_csv(URL, sep=\";\")\n",
    "df_recipe_list = df[\"ingredients\"].to_list()\n",
    "\n",
    "# Function to get a random recipe\n",
    "def get_random_recipe():\n",
    "    recipe = random.choice(df_recipe_list)\n",
    "    return ', '.join(eval(recipe))\n",
    "\n",
    "# Main function for analysis\n",
    "def analyze_text(text=None, dropdown=[], random_recipe=False,  labels=None):  \n",
    "    if random_recipe:\n",
    "        text = get_random_recipe()\n",
    "\n",
    "    if not labels:  \n",
    "        labels = ['Chinese', 'Indian', 'Italian', \n",
    "                  'Mexican', 'Southern Usa', \n",
    "                  'Cajun Creole', 'French', 'Thai']\n",
    "    if not text and dropdown:\n",
    "      data = zer(dropdown, labels)\n",
    "      data = pd.DataFrame(data)\n",
    "      data['scores'] = data['scores'].round(2)\n",
    "      data = data.rename(columns={\"sequence\": \"Recipe\", \"scores\": \"Score\", \n",
    "                                  \"labels\": \"Cuisine\"})\n",
    "      data_2 = data.drop(columns=[\"Recipe\"], axis=1)\n",
    "    \n",
    "    elif text and not dropdown:\n",
    "      data = zer(text, labels)\n",
    "      data = pd.DataFrame(data)\n",
    "      data['scores'] = data['scores'].round(2)\n",
    "      data = data.rename(columns={\"sequence\": \"Recipe\", \"scores\": \"Score\", \n",
    "                                  \"labels\": \"Cuisine\"})\n",
    "      data_2 = data.drop(columns=[\"Recipe\"], axis=1)\n",
    "    \n",
    "    else:\n",
    "      data = zer(text, labels)\n",
    "      data = pd.DataFrame(data)\n",
    "      data['scores'] = data['scores'].round(2)\n",
    "      data = data.rename(columns={\"sequence\": \"Recipe\", \"scores\": \"Score\", \n",
    "                                  \"labels\": \"Cuisine\"})\n",
    "      data_2 = data.drop(columns=[\"Recipe\"], axis=1)\n",
    "\n",
    "\n",
    "\n",
    "    color_scale = alt.Scale(range=['#1f77b4', '#ff7f0e', '#2ca02c', '#d62728', '#9467bd', '#8c564b', '#e377c2', '#7f7f7f'])\n",
    "\n",
    "    plot = alt.Chart(data_2).mark_bar(\n",
    "        opacity=0.8,\n",
    "        size=30\n",
    "    ).encode(\n",
    "        x=alt.X('Cuisine', title='Cuisine', sort=alt.EncodingSortField(field='Score',order='descending'), axis=alt.Axis(labelAngle=0, titleAnchor='start')),\n",
    "        y=alt.Y('Score', title='Score', axis=alt.Axis(titleAnchor='start')),\n",
    "        color=alt.Color('Cuisine', scale=color_scale),\n",
    "        tooltip=[alt.Tooltip('Score',title='Matchscore of the Cuisine')]\n",
    "    ).properties(\n",
    "        width=600,\n",
    "        height=400,\n",
    "        title='Matchscore of the Cuisines'\n",
    "    ).configure_axis(\n",
    "        grid=False\n",
    "    ).configure_view(\n",
    "        strokeWidth=0\n",
    "    )\n",
    "\n",
    "    plot.save('Barplot.html') \n",
    "\n",
    "    #return text, data_2, plot, 'Barplot.html'\n",
    "    if text and not dropdown:\n",
    "      return text, data_2, plot, 'Barplot.html'\n",
    "    elif dropdown and not text:\n",
    "      return ', '.join(eval(dropdown)), data_2, plot, 'Barplot.html'\n",
    "    else:\n",
    "      return text, data_2, plot, 'Barplot.html'\n",
    "\n",
    "# Checkbox for random recipe\n",
    "random_recipe_checkbox = gr.Checkbox(label=\"Use Random Recipe\")\n",
    "\n",
    "# Checkbox for selecting cuisines\n",
    "checkbox = gr.CheckboxGroup(['Chinese','Indian','Italian',\n",
    "                             'Mexican','Southern Usa', 'Cajun Creole', \n",
    "                             'French', 'Thai'], label=\"Choose countries\", info=\"If nothing is selected, all options will be selected automatically.\")\n",
    "\n",
    "dropdown = gr.Dropdown(df_recipe_list, label=\"Choose a recipe from the dataset\")\n",
    "\n",
    "# Gradio Interface\n",
    "demo = gr.Interface(\n",
    "    fn=analyze_text,\n",
    "    inputs=[ gr.Textbox(placeholder=\"Enter ingredients manually\", label=\"Ingredients\"), dropdown ,random_recipe_checkbox, checkbox],  # Reihenfolge der Argumente hier beibehalten\n",
    "    outputs=[gr.Textbox(label=\"Used Recipe\", placeholder=\"This is the recipe you used\"),gr.DataFrame(label=\"Table sorted score\"),\n",
    "             gr.Plot(label=\"Barplot\"),gr.File(label=\"Download plot here\")],\n",
    "    title=\"Zero-Shot Recipe Classification\",\n",
    "    allow_flagging=\"never\"\n",
    ")\n",
    "\n",
    "demo.launch()\n"
   ]
  }
 ],
 "metadata": {
  "language_info": {
   "name": "python"
  }
 },
 "nbformat": 4,
 "nbformat_minor": 2
}
