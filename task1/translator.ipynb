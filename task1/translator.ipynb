from transformers import pipeline
import gradio as gr


def translate_text(text, target_language):
    language_mapping = {"English": "en", "German": "de", 
                        "French": "fr", "Spanish": "es", "Italian": "it"}
    
    lang_detector = pipeline("text-classification", model="papluca/xlm-roberta-base-language-detection")

    detected_lang = lang_detector(text)
    detected = detected_lang[0]["label"]

    target = language_mapping[target_language]

    
    

    if target == detected:
      return text
    else:
      translator = pipeline("translation", model="Helsinki-NLP/opus-mt-{}-{}".format(detected, target))
      
      result = translator(text)[0]["translation_text"]
      return result


checkbox = gr.Radio(['German','Italian','Spanish',
                             'French','English'], label="Choose your target Language",
                             info="Please select a target language, the input Language will be determined automatically")

demo = gr.Interface(
    fn=translate_text,
    inputs=["text", checkbox],
    outputs=["text"],
    title="Translator"
)

demo.launch()
