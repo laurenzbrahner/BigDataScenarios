{
 "cells": [
  {
   "cell_type": "markdown",
   "metadata": {},
   "source": [
    "# Wikipedia"
   ]
  },
  {
   "cell_type": "code",
   "execution_count": 1,
   "metadata": {},
   "outputs": [
    {
     "name": "stderr",
     "output_type": "stream",
     "text": [
      "No model was supplied, defaulted to dbmdz/bert-large-cased-finetuned-conll03-english and revision f2482bf (https://huggingface.co/dbmdz/bert-large-cased-finetuned-conll03-english).\n",
      "Using a pipeline without specifying a model name and revision in production is not recommended.\n",
      "Some weights of the model checkpoint at dbmdz/bert-large-cased-finetuned-conll03-english were not used when initializing BertForTokenClassification: ['bert.pooler.dense.weight', 'bert.pooler.dense.bias']\n",
      "- This IS expected if you are initializing BertForTokenClassification from the checkpoint of a model trained on another task or with another architecture (e.g. initializing a BertForSequenceClassification model from a BertForPreTraining model).\n",
      "- This IS NOT expected if you are initializing BertForTokenClassification from the checkpoint of a model that you expect to be exactly identical (initializing a BertForSequenceClassification model from a BertForSequenceClassification model).\n",
      "c:\\Users\\Privat\\anaconda3\\envs\\bigD\\lib\\site-packages\\transformers\\pipelines\\token_classification.py:169: UserWarning: `grouped_entities` is deprecated and will be removed in version v5.0.0, defaulted to `aggregation_strategy=\"simple\"` instead.\n",
      "  warnings.warn(\n"
     ]
    },
    {
     "name": "stdout",
     "output_type": "stream",
     "text": [
      "Running on local URL:  http://127.0.0.1:7860\n",
      "\n",
      "To create a public link, set `share=True` in `launch()`.\n"
     ]
    },
    {
     "data": {
      "text/html": [
       "<div><iframe src=\"http://127.0.0.1:7860/\" width=\"100%\" height=\"500\" allow=\"autoplay; camera; microphone; clipboard-read; clipboard-write;\" frameborder=\"0\" allowfullscreen></iframe></div>"
      ],
      "text/plain": [
       "<IPython.core.display.HTML object>"
      ]
     },
     "metadata": {},
     "output_type": "display_data"
    },
    {
     "data": {
      "text/plain": []
     },
     "execution_count": 1,
     "metadata": {},
     "output_type": "execute_result"
    }
   ],
   "source": [
    "import pandas as pd\n",
    "import requests\n",
    "import re\n",
    "from transformers import pipeline\n",
    "import gradio as gr\n",
    "\n",
    "\n",
    "ner = pipeline(\"ner\", grouped_entities=True)\n",
    "\n",
    "# URL\n",
    "url = \"https://raw.githubusercontent.com/laurenzbrahner/BigDataScenarios/main/data/NER_text_Wikipedia_crawl.txt\"\n",
    "\n",
    "# Load the text\n",
    "response = requests.get(url)\n",
    "text = response.text\n",
    "\n",
    "# Delete the brackets\n",
    "pattern = r'\\[.*?\\]'\n",
    "text = re.sub(pattern, '', text)\n",
    "\n",
    "# split all sentences in a list\n",
    "sentences_list = text.split(\". \")\n",
    "\n",
    "\n",
    "def ner_wikipedia(sentence, entities_to_display):\n",
    "  # use transformer model\n",
    "  data = ner(sentence)\n",
    "  # to dataframe\n",
    "  data = pd.DataFrame(data)\n",
    "  # Filter entities if user selected one\n",
    "  if entities_to_display:\n",
    "    data = data[data['entity_group'].isin(entities_to_display)]\n",
    "\n",
    "  word_list = data['word'].tolist()\n",
    "  entity_list = data['entity_group'].tolist()\n",
    "\n",
    "  word_entity_df = pd.DataFrame({'Word': word_list, 'Entity': entity_list})\n",
    "  word_freq = word_entity_df.groupby(['Word', 'Entity']).size().reset_index(name='Frequency')\n",
    "    \n",
    "  # Colors for the Points in the Scatter Plot\n",
    "  color_scale = alt.Scale(domain=['ORG', 'LOC', 'MISC', 'PER'], range=['#1f77b4', '#ff7f0e', '#2ca02c', '#d62728'])\n",
    "\n",
    "   # Define Scatter plot\n",
    "  scatter = alt.Chart(word_freq).mark_circle(opacity=0.7, stroke='black', strokeWidth=0.5).encode(\n",
    "        x=alt.X('Frequency', scale=alt.Scale(padding=1), axis=alt.Axis(tickCount=5)),\n",
    "        y=alt.Y('Word', sort='-x'),\n",
    "        size=alt.Size('Frequency', scale=alt.Scale(range=[200, 1500]), title='Frequency'),\n",
    "        color=alt.Color('Entity', scale=color_scale, legend=alt.Legend(title='Entity')),\n",
    "        tooltip=['Word', 'Frequency', 'Entity']\n",
    "    ).properties(\n",
    "        title='Words and Entities',\n",
    "        width=500,\n",
    "        height=600\n",
    "    ).configure_view(\n",
    "        strokeWidth=0,\n",
    "        fill='f5f5f5'\n",
    "    ).configure_title(\n",
    "        fontSize=25,\n",
    "        anchor='start'\n",
    "    ).configure_axis(\n",
    "        labelColor='grey',\n",
    "        labelFontSize=12,\n",
    "        titleFontSize=15\n",
    "    ).configure_legend(\n",
    "        labelFontSize=12,\n",
    "        symbolSize=150,\n",
    "        symbolStrokeWidth=2,\n",
    "        labelPadding=10,\n",
    "        padding=40\n",
    "    ).configure_axisX(\n",
    "        grid=False\n",
    "    )\n",
    "\n",
    "  scatter.save('scatter_plot.html')  \n",
    "\n",
    "  sorted_word_freq = word_freq.sort_values(by='Frequency', ascending=False)\n",
    "\n",
    "  return sorted_word_freq, scatter, \"scatter_plot.html\"\n",
    "\n",
    "\n",
    "\n",
    "checkbox = gr.CheckboxGroup([\"LOC\", \"MISC\", \"PER\", \"ORG\"], \n",
    "                            label=\"Choose the entities you want to see\",\n",
    "                            info=\"If you select nothing, every entity will be selected\")\n",
    "\n",
    "\n",
    "\n",
    "\n",
    "\n",
    "\n",
    "\n",
    "\n",
    "dropdown = gr.Dropdown(sentences_list, label='Choose an article you would like to have summarized')\n",
    "\n",
    "\n",
    "demo = gr.Interface(\n",
    "    fn=ner_wikipedia,\n",
    "    inputs=[dropdown, checkbox],\n",
    "    outputs=[\"dataframe\",\"plot\", \"file\"],\n",
    "    title=\"Named Entity Recognition\"\n",
    ")\n",
    "\n",
    "demo.launch()\n",
    "\n",
    "\n",
    "\n"
   ]
  }
 ],
 "metadata": {
  "kernelspec": {
   "display_name": "bigD",
   "language": "python",
   "name": "python3"
  },
  "language_info": {
   "codemirror_mode": {
    "name": "ipython",
    "version": 3
   },
   "file_extension": ".py",
   "mimetype": "text/x-python",
   "name": "python",
   "nbconvert_exporter": "python",
   "pygments_lexer": "ipython3",
   "version": "3.9.13"
  }
 },
 "nbformat": 4,
 "nbformat_minor": 2
}
