{
 "cells": [
  {
   "cell_type": "markdown",
   "metadata": {},
   "source": [
    "# **Sentiment Analysis: Check if the Reviews are positive or negative**"
   ]
  },
  {
   "cell_type": "markdown",
   "metadata": {},
   "source": [
    "### All requried imports"
   ]
  },
  {
   "cell_type": "code",
   "execution_count": null,
   "metadata": {},
   "outputs": [],
   "source": [
    "# import dependencies\n",
    "import gradio as gr\n",
    "from transformers import pipeline"
   ]
  },
  {
   "cell_type": "markdown",
   "metadata": {},
   "source": [
    "### Instanciate the Sentiment-Analyzer-model"
   ]
  },
  {
   "cell_type": "code",
   "execution_count": null,
   "metadata": {},
   "outputs": [],
   "source": [
    "# load model\n",
    "sen = pipeline(task=\"sentiment-analysis\", truncation=True)"
   ]
  },
  {
   "cell_type": "markdown",
   "metadata": {},
   "source": [
    "### Main input processing function"
   ]
  },
  {
   "cell_type": "code",
   "execution_count": null,
   "metadata": {},
   "outputs": [],
   "source": [
    "# define function\n",
    "def analyze_review(text):\n",
    "    # apply model to text\n",
    "    result = sen(text)\n",
    "    # positive or negative\n",
    "    processed_text = \"The supplied text is being labeled as: \" + result[0]['label']\n",
    "    # score\n",
    "    text_score = \" with a score of:  \" + str(round(result[0]['score'], 3)) + \".\"\n",
    "    # return result\n",
    "    return processed_text + text_score"
   ]
  },
  {
   "cell_type": "markdown",
   "metadata": {},
   "source": [
    "### Instanciate the Interface and launch it"
   ]
  },
  {
   "cell_type": "code",
   "execution_count": null,
   "metadata": {},
   "outputs": [],
   "source": [
    "# interface\n",
    "demo = gr.Interface(\n",
    "    fn=analyze_review,\n",
    "    inputs=\"text\",\n",
    "    outputs=\"text\",\n",
    "    title=\"Sentiment analysis of Yelp reviews.\"\n",
    ")\n",
    "# launch interface\n",
    "demo.launch()"
   ]
  },
  {
   "cell_type": "markdown",
   "metadata": {},
   "source": [
    "## **The entire code in one piece**"
   ]
  },
  {
   "cell_type": "code",
   "execution_count": null,
   "metadata": {},
   "outputs": [],
   "source": [
    "# import dependencies\n",
    "import gradio as gr\n",
    "from transformers import pipeline\n",
    "\n",
    "# load model\n",
    "sen = pipeline(task=\"sentiment-analysis\", truncation=True)\n",
    "\n",
    "# define function\n",
    "def analyze_review(text):\n",
    "    # apply model to text\n",
    "    result = sen(text)\n",
    "    # positive or negative\n",
    "    processed_text = \"The supplied text is being labeled as: \" + result[0]['label']\n",
    "    # score\n",
    "    text_score = \" with a score of:  \" + str(round(result[0]['score'], 3)) + \".\"\n",
    "    # return result\n",
    "    return processed_text + text_score\n",
    "    \n",
    "\n",
    "\n",
    "# interface\n",
    "demo = gr.Interface(\n",
    "    fn=analyze_review,\n",
    "    inputs=\"text\",\n",
    "    outputs=\"text\",\n",
    "    title=\"Sentiment analysis of Yelp reviews.\"\n",
    ")\n",
    "\n",
    "# launch interface\n",
    "demo.launch()"
   ]
  }
 ],
 "metadata": {
  "language_info": {
   "name": "python"
  }
 },
 "nbformat": 4,
 "nbformat_minor": 2
}
