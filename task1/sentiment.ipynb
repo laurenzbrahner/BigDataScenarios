{
 "cells": [
  {
   "cell_type": "code",
   "execution_count": null,
   "metadata": {},
   "outputs": [],
   "source": [
    "import gradio as gr\n",
    "from transformers import pipeline\n",
    "\n",
    "sen = pipeline(task=\"sentiment-analysis\", truncation=True)\n",
    "\n",
    "\n",
    "def analyze_review(text):\n",
    "    result = sen(text)\n",
    "    processed_text = \"The supplied text is being labeled as: \" + result[0]['label']\n",
    "    text_score = \" with a score of:  \" + str(round(result[0]['score'], 3)) + \".\"\n",
    "\n",
    "    return processed_text + text_score\n",
    "    \n",
    "\n",
    "\n",
    "\n",
    "demo = gr.Interface(\n",
    "    fn=analyze_review,\n",
    "    inputs=\"text\",\n",
    "    outputs=\"text\",\n",
    "    title=\"Sentiment analysis of Yelp reviews.\"\n",
    ")\n",
    "\n",
    "\n",
    "demo.launch()"
   ]
  }
 ],
 "metadata": {
  "language_info": {
   "name": "python"
  }
 },
 "nbformat": 4,
 "nbformat_minor": 2
}
