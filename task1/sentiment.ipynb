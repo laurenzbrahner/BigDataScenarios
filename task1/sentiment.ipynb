{
 "cells": [
  {
   "cell_type": "markdown",
   "metadata": {},
   "source": [
    "# **Sentiment Analysis: Check if the Reviews are positive or negative**"
   ]
  },
  {
   "cell_type": "markdown",
   "metadata": {},
   "source": [
    "### All requried imports"
   ]
  },
  {
   "cell_type": "code",
   "execution_count": null,
   "metadata": {},
   "outputs": [],
   "source": [
    "# import dependencies\n",
    "import gradio as gr\n",
    "from transformers import pipeline\n",
    "import pandas as pd"
   ]
  },
  {
   "cell_type": "markdown",
   "metadata": {},
   "source": [
    "### Instanciate the Sentiment-Analyzer-model"
   ]
  },
  {
   "cell_type": "code",
   "execution_count": null,
   "metadata": {},
   "outputs": [],
   "source": [
    "# load model\n",
    "sen = pipeline(task=\"sentiment-analysis\", truncation=True)\n",
    "\n",
    "URL =\"https://raw.githubusercontent.com/laurenzbrahner/BigDataScenarios/main/data/Sentiment_Training.csv\"\n",
    "\n",
    "df = pd.read_csv(URL, sep=\";\")\n",
    "\n",
    "df_list = df[\"text\"].to_list()"
   ]
  },
  {
   "cell_type": "markdown",
   "metadata": {},
   "source": [
    "### Main input processing function"
   ]
  },
  {
   "cell_type": "code",
   "execution_count": null,
   "metadata": {},
   "outputs": [],
   "source": [
    "# define function\n",
    "def analyze_review(text, dropdown):\n",
    "    if dropdown and not text:\n",
    "      result = sen(dropdown)\n",
    "      # positive or negative\n",
    "      processed_text = \"The supplied text is being labeled as: \" + result[0]['label']\n",
    "      # score\n",
    "      text_score = \" with a score of:  \" + str(round(result[0]['score'], 3)) + \".\"\n",
    "      # return result\n",
    "      return processed_text + text_score\n",
    "    elif text and not dropdown:\n",
    "      result = sen(text)\n",
    "      # positive or negative\n",
    "      processed_text = \"The supplied text is being labeled as: \" + result[0]['label']\n",
    "      # score\n",
    "      text_score = \" with a score of:  \" + str(round(result[0]['score'], 3)) + \".\"\n",
    "      # return result\n",
    "      return processed_text + text_score\n",
    "    else:\n",
    "      return \"please clear the input fields\"\n",
    "    \n"
   ]
  },
  {
   "cell_type": "markdown",
   "metadata": {},
   "source": [
    "### Instanciate the Interface and launch it"
   ]
  },
  {
   "cell_type": "code",
   "execution_count": null,
   "metadata": {},
   "outputs": [],
   "source": [
    "# interface\n",
    "dropdown = gr.Dropdown(df_list, label=\"Choose a review from the dataset\")\n",
    "\n",
    "demo = gr.Interface(\n",
    "    fn=analyze_review,\n",
    "    inputs=[gr.Textbox(placeholder=\"Enter Review manually\", label=\"Review\"), dropdown],\n",
    "    outputs=gr.Textbox(label=\"Is the review postive?\"),\n",
    "    title=\"Sentiment analysis of Yelp reviews.\"\n",
    ")\n",
    "\n",
    "# launch interface\n",
    "demo.launch()"
   ]
  },
  {
   "cell_type": "markdown",
   "metadata": {},
   "source": [
    "## **The entire code in one piece**"
   ]
  },
  {
   "cell_type": "code",
   "execution_count": null,
   "metadata": {},
   "outputs": [],
   "source": [
    "# import dependencies\n",
    "import gradio as gr\n",
    "from transformers import pipeline\n",
    "import pandas as pd\n",
    "\n",
    "# load model\n",
    "sen = pipeline(task=\"sentiment-analysis\",truncation=True)\n",
    "\n",
    "URL =\"https://raw.githubusercontent.com/laurenzbrahner/BigDataScenarios/main/data/Sentiment_Training.csv\"\n",
    "\n",
    "df = pd.read_csv(URL, sep=\";\")\n",
    "\n",
    "df_list = df[\"text\"].to_list()\n",
    "\n",
    "\n",
    "\n",
    "\n",
    "# define function\n",
    "def analyze_review(text, dropdown):\n",
    "    if dropdown and not text:\n",
    "      result = sen(dropdown)\n",
    "      # positive or negative\n",
    "      processed_text = \"The supplied text is being labeled as: \" + result[0]['label']\n",
    "      # score\n",
    "      text_score = \" with a score of:  \" + str(round(result[0]['score'], 3)) + \".\"\n",
    "      # return result\n",
    "      return processed_text + text_score\n",
    "    elif text and not dropdown:\n",
    "      result = sen(text)\n",
    "      # positive or negative\n",
    "      processed_text = \"The supplied text is being labeled as: \" + result[0]['label']\n",
    "      # score\n",
    "      text_score = \" with a score of:  \" + str(round(result[0]['score'], 3)) + \".\"\n",
    "      # return result\n",
    "      return processed_text + text_score\n",
    "    else:\n",
    "      return \"please clear the input fields\"\n",
    "    \n",
    "\n",
    "dropdown = gr.Dropdown(df_list, label=\"Choose a review from the dataset\")\n",
    "\n",
    "# interface\n",
    "demo = gr.Interface(\n",
    "    fn=analyze_review,\n",
    "    inputs=[gr.Textbox(placeholder=\"Enter Review manually\", label=\"Review\"), dropdown],\n",
    "    outputs=gr.Textbox(label=\"Is the review postive?\"),\n",
    "    title=\"Sentiment analysis of Yelp reviews.\"\n",
    ")\n",
    "\n",
    "# launch interface\n",
    "demo.launch()"
   ]
  }
 ],
 "metadata": {
  "language_info": {
   "name": "python"
  }
 },
 "nbformat": 4,
 "nbformat_minor": 2
}
