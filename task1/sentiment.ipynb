import gradio as gr
from transformers import pipeline

sen = pipeline(task="sentiment-analysis", truncation=True)


def analyze_review(text):
    result = sen(text)
    processed_text = "The supplied text is being labeled as: " + result[0]['label']
    text_score = " with a score of:  " + str(round(result[0]['score'], 3)) + "."

    return processed_text + text_score
    



demo = gr.Interface(
    fn=analyze_review,
    inputs="text",
    outputs="text",
    title="Sentiment analysis of Yelp reviews."
)


demo.launch()
